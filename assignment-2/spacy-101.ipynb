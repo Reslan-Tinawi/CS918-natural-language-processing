{
 "cells": [
  {
   "cell_type": "code",
   "execution_count": null,
   "id": "45927f75-19e7-4c14-b169-484994215c17",
   "metadata": {
    "execution": {
     "iopub.execute_input": "2024-02-24T00:41:17.631211Z",
     "iopub.status.busy": "2024-02-24T00:41:17.631211Z",
     "iopub.status.idle": "2024-02-24T00:41:18.542366Z",
     "shell.execute_reply": "2024-02-24T00:41:18.542366Z",
     "shell.execute_reply.started": "2024-02-24T00:41:17.631211Z"
    }
   },
   "outputs": [],
   "source": [
    "import matplotlib.pyplot as plt\n",
    "import numpy as np\n",
    "import pandas as pd\n",
    "import plotly.express as px\n",
    "import spacy\n",
    "from spacymoji import Emoji\n",
    "from wordcloud import WordCloud"
   ]
  },
  {
   "cell_type": "code",
   "execution_count": null,
   "id": "0030ee9a-07e5-463d-821c-9bd227e031ae",
   "metadata": {
    "execution": {
     "iopub.execute_input": "2024-02-24T00:40:28.833058Z",
     "iopub.status.busy": "2024-02-24T00:40:28.833058Z",
     "iopub.status.idle": "2024-02-24T00:40:29.131579Z",
     "shell.execute_reply": "2024-02-24T00:40:29.131579Z",
     "shell.execute_reply.started": "2024-02-24T00:40:28.833058Z"
    }
   },
   "outputs": [],
   "source": [
    "training_data = pd.read_csv(\n",
    "    \"data/semeval-tweets/twitter-training-data.txt\",\n",
    "    sep=\"\\t\",\n",
    "    names=[\"tweet_id\", \"sentiment\", \"tweet_text\"],\n",
    ")"
   ]
  },
  {
   "cell_type": "code",
   "execution_count": null,
   "id": "eb62a61d-6d21-4012-9f28-3e18339cfbfe",
   "metadata": {
    "execution": {
     "iopub.execute_input": "2024-02-24T00:40:29.241326Z",
     "iopub.status.busy": "2024-02-24T00:40:29.241326Z",
     "iopub.status.idle": "2024-02-24T00:40:29.304451Z",
     "shell.execute_reply": "2024-02-24T00:40:29.304451Z",
     "shell.execute_reply.started": "2024-02-24T00:40:29.241326Z"
    }
   },
   "outputs": [],
   "source": [
    "training_data.head()"
   ]
  },
  {
   "cell_type": "code",
   "execution_count": null,
   "id": "f8075334-83c2-473d-8ae9-25d6d5d443f4",
   "metadata": {
    "execution": {
     "iopub.execute_input": "2024-02-24T00:40:29.853810Z",
     "iopub.status.busy": "2024-02-24T00:40:29.838207Z",
     "iopub.status.idle": "2024-02-24T00:40:32.899893Z",
     "shell.execute_reply": "2024-02-24T00:40:32.899893Z",
     "shell.execute_reply.started": "2024-02-24T00:40:29.853810Z"
    }
   },
   "outputs": [],
   "source": [
    "nlp = spacy.load(\"en_core_web_lg\")\n",
    "nlp.add_pipe(\"emoji\", first=True)"
   ]
  },
  {
   "cell_type": "code",
   "execution_count": null,
   "id": "7e8b81ee-4ca2-40f5-bf13-3e865693135b",
   "metadata": {
    "execution": {
     "iopub.execute_input": "2024-02-24T00:40:32.899893Z",
     "iopub.status.busy": "2024-02-24T00:40:32.899893Z",
     "iopub.status.idle": "2024-02-24T00:40:32.931165Z",
     "shell.execute_reply": "2024-02-24T00:40:32.931165Z",
     "shell.execute_reply.started": "2024-02-24T00:40:32.899893Z"
    }
   },
   "outputs": [],
   "source": [
    "sample_tweet = (\n",
    "    training_data.query(\"sentiment == 'negative'\")[\"tweet_text\"].sample(n=1).squeeze()\n",
    ")"
   ]
  },
  {
   "cell_type": "code",
   "execution_count": null,
   "id": "252dea35-bf4a-4c8f-b586-0a2fcab98127",
   "metadata": {
    "execution": {
     "iopub.execute_input": "2024-02-24T00:40:32.931165Z",
     "iopub.status.busy": "2024-02-24T00:40:32.931165Z",
     "iopub.status.idle": "2024-02-24T00:40:32.962488Z",
     "shell.execute_reply": "2024-02-24T00:40:32.962488Z",
     "shell.execute_reply.started": "2024-02-24T00:40:32.931165Z"
    }
   },
   "outputs": [],
   "source": [
    "print(sample_tweet)"
   ]
  },
  {
   "cell_type": "code",
   "execution_count": null,
   "id": "bd7af716-aa02-4b97-bfbc-e57b41144de7",
   "metadata": {
    "execution": {
     "iopub.execute_input": "2024-02-24T00:40:36.086379Z",
     "iopub.status.busy": "2024-02-24T00:40:36.086379Z",
     "iopub.status.idle": "2024-02-24T00:40:36.149399Z",
     "shell.execute_reply": "2024-02-24T00:40:36.149399Z",
     "shell.execute_reply.started": "2024-02-24T00:40:36.086379Z"
    }
   },
   "outputs": [],
   "source": [
    "doc = nlp(sample_tweet)"
   ]
  },
  {
   "cell_type": "code",
   "execution_count": null,
   "id": "d3157afa-7d10-4838-a413-2174b1015b06",
   "metadata": {
    "execution": {
     "iopub.execute_input": "2024-02-24T00:40:36.541734Z",
     "iopub.status.busy": "2024-02-24T00:40:36.541734Z",
     "iopub.status.idle": "2024-02-24T00:40:36.557365Z",
     "shell.execute_reply": "2024-02-24T00:40:36.557365Z",
     "shell.execute_reply.started": "2024-02-24T00:40:36.541734Z"
    }
   },
   "outputs": [],
   "source": [
    "for sent in doc.sents:\n",
    "    print(sent)"
   ]
  },
  {
   "cell_type": "code",
   "execution_count": null,
   "id": "4cfb7e44-20e2-40cb-9c2d-423916dc068b",
   "metadata": {
    "execution": {
     "iopub.execute_input": "2024-02-24T00:40:56.364534Z",
     "iopub.status.busy": "2024-02-24T00:40:56.364534Z",
     "iopub.status.idle": "2024-02-24T00:40:56.381199Z",
     "shell.execute_reply": "2024-02-24T00:40:56.381199Z",
     "shell.execute_reply.started": "2024-02-24T00:40:56.364534Z"
    }
   },
   "outputs": [],
   "source": [
    "for token in doc:\n",
    "    print(token)"
   ]
  },
  {
   "cell_type": "code",
   "execution_count": null,
   "id": "d1851bb0-e507-45c8-871b-0ef1da540b6a",
   "metadata": {
    "execution": {
     "iopub.execute_input": "2024-02-24T00:44:00.347090Z",
     "iopub.status.busy": "2024-02-24T00:44:00.347090Z",
     "iopub.status.idle": "2024-02-24T00:44:00.378778Z",
     "shell.execute_reply": "2024-02-24T00:44:00.378778Z",
     "shell.execute_reply.started": "2024-02-24T00:44:00.347090Z"
    }
   },
   "outputs": [],
   "source": [
    "training_data.query(\"sentiment == 'positive'\")[\"tweet_text\"]"
   ]
  },
  {
   "cell_type": "code",
   "execution_count": null,
   "id": "19b2b6be-fbc9-4322-90f5-77ea8febc954",
   "metadata": {
    "execution": {
     "iopub.execute_input": "2024-02-24T00:46:30.479969Z",
     "iopub.status.busy": "2024-02-24T00:46:30.479969Z",
     "iopub.status.idle": "2024-02-24T00:51:06.752148Z",
     "shell.execute_reply": "2024-02-24T00:51:06.752148Z",
     "shell.execute_reply.started": "2024-02-24T00:46:30.479969Z"
    }
   },
   "outputs": [],
   "source": [
    "training_data[\"tweet_text_tokenized\"] = training_data[\"tweet_text\"].apply(lambda x: nlp(x))"
   ]
  },
  {
   "cell_type": "code",
   "execution_count": null,
   "id": "61550ba4-4e72-49a5-94fb-7c24d4ba23d6",
   "metadata": {
    "execution": {
     "iopub.execute_input": "2024-02-24T00:51:27.949979Z",
     "iopub.status.busy": "2024-02-24T00:51:27.948990Z",
     "iopub.status.idle": "2024-02-24T00:51:27.955988Z",
     "shell.execute_reply": "2024-02-24T00:51:27.955988Z",
     "shell.execute_reply.started": "2024-02-24T00:51:27.949979Z"
    }
   },
   "outputs": [],
   "source": [
    "training_data.dtypes"
   ]
  },
  {
   "cell_type": "code",
   "execution_count": null,
   "id": "8852b233-2762-4976-8c40-c4c547e67c2d",
   "metadata": {},
   "outputs": [],
   "source": []
  }
 ],
 "metadata": {
  "kernelspec": {
   "display_name": "nlp",
   "language": "python",
   "name": "nlp"
  },
  "language_info": {
   "codemirror_mode": {
    "name": "ipython",
    "version": 3
   },
   "file_extension": ".py",
   "mimetype": "text/x-python",
   "name": "python",
   "nbconvert_exporter": "python",
   "pygments_lexer": "ipython3",
   "version": "3.10.0"
  }
 },
 "nbformat": 4,
 "nbformat_minor": 5
}
