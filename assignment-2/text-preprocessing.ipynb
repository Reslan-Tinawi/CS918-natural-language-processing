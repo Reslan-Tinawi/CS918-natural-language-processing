{
 "cells": [
  {
   "cell_type": "markdown",
   "id": "6ebf665b-35a0-4a2d-9f47-424c82d7008c",
   "metadata": {},
   "source": [
    "# Import Libraries"
   ]
  },
  {
   "cell_type": "code",
   "execution_count": null,
   "id": "62f1f934-4d71-4a20-b0b1-cdafe9029f68",
   "metadata": {
    "execution": {
     "iopub.execute_input": "2024-02-06T15:12:19.734274Z",
     "iopub.status.busy": "2024-02-06T15:12:19.734274Z",
     "iopub.status.idle": "2024-02-06T15:12:21.682746Z",
     "shell.execute_reply": "2024-02-06T15:12:21.681753Z",
     "shell.execute_reply.started": "2024-02-06T15:12:19.734274Z"
    }
   },
   "outputs": [],
   "source": [
    "import re\n",
    "\n",
    "import pandas as pd"
   ]
  },
  {
   "cell_type": "markdown",
   "id": "baae5d29-4e5c-4abe-acd6-350362def6cd",
   "metadata": {},
   "source": [
    "# Load data"
   ]
  },
  {
   "cell_type": "code",
   "execution_count": null,
   "id": "39e3ae41-34a5-451a-bc8a-13f89dc48e52",
   "metadata": {
    "execution": {
     "iopub.execute_input": "2024-02-06T15:12:47.288712Z",
     "iopub.status.busy": "2024-02-06T15:12:47.288712Z",
     "iopub.status.idle": "2024-02-06T15:12:47.687643Z",
     "shell.execute_reply": "2024-02-06T15:12:47.686661Z",
     "shell.execute_reply.started": "2024-02-06T15:12:47.288712Z"
    }
   },
   "outputs": [],
   "source": [
    "df = pd.read_json(\"signal-news1/signal-news1/signal-news1.jsonl\", lines=True)"
   ]
  },
  {
   "cell_type": "code",
   "execution_count": null,
   "id": "04b20480-4d28-4f6d-81c4-ba84e68a6022",
   "metadata": {
    "execution": {
     "iopub.execute_input": "2024-02-06T15:12:48.367786Z",
     "iopub.status.busy": "2024-02-06T15:12:48.367786Z",
     "iopub.status.idle": "2024-02-06T15:12:48.404791Z",
     "shell.execute_reply": "2024-02-06T15:12:48.403789Z",
     "shell.execute_reply.started": "2024-02-06T15:12:48.367786Z"
    }
   },
   "outputs": [],
   "source": [
    "df.head()"
   ]
  },
  {
   "cell_type": "code",
   "execution_count": null,
   "id": "e5929d32-f569-466a-8342-1f39a3719e19",
   "metadata": {
    "execution": {
     "iopub.execute_input": "2024-02-06T15:14:38.315337Z",
     "iopub.status.busy": "2024-02-06T15:14:38.314338Z",
     "iopub.status.idle": "2024-02-06T15:14:38.336339Z",
     "shell.execute_reply": "2024-02-06T15:14:38.335338Z",
     "shell.execute_reply.started": "2024-02-06T15:14:38.315337Z"
    }
   },
   "outputs": [],
   "source": [
    "news_content = df[\"content\"]"
   ]
  },
  {
   "cell_type": "code",
   "execution_count": null,
   "id": "c044413e-431b-4fe6-b42c-a2000ab86737",
   "metadata": {
    "execution": {
     "iopub.execute_input": "2024-02-06T15:14:41.922451Z",
     "iopub.status.busy": "2024-02-06T15:14:41.922451Z",
     "iopub.status.idle": "2024-02-06T15:14:42.227953Z",
     "shell.execute_reply": "2024-02-06T15:14:42.227953Z",
     "shell.execute_reply.started": "2024-02-06T15:14:41.922451Z"
    }
   },
   "outputs": [],
   "source": [
    "news_content_lower = news_content.str.lower()"
   ]
  },
  {
   "cell_type": "code",
   "execution_count": null,
   "id": "55bbd556-6ee4-4d8d-a198-34a680da0124",
   "metadata": {},
   "outputs": [],
   "source": [
    "pattern = re.compile(\"[^a-zA-Z0-9\\s]+\")"
   ]
  },
  {
   "cell_type": "code",
   "execution_count": null,
   "id": "97691be2-c57f-4318-913e-ea3648c32ef7",
   "metadata": {},
   "outputs": [],
   "source": [
    "news_content_lower_alphanumeric_and_space = news_content_lower.str.replace(\n",
    "    pat=pattern, repl=\"\", regex=True\n",
    ")"
   ]
  },
  {
   "cell_type": "code",
   "execution_count": null,
   "id": "bbe735e3-4be4-441c-aa20-7b7c8080312d",
   "metadata": {},
   "outputs": [],
   "source": [
    "single_character_word_pattern = re.compile(r\"\\b\\w{1}\\b\")"
   ]
  },
  {
   "cell_type": "code",
   "execution_count": null,
   "id": "47f3113f-108c-4688-80f2-d6379d87a6bd",
   "metadata": {},
   "outputs": [],
   "source": [
    "news_content_no_single_letter_character = (\n",
    "    news_content_lower_alphanumeric_and_space.str.replace(\n",
    "        pat=single_character_word_pattern, repl=\"\", regex=True\n",
    "    )\n",
    ")"
   ]
  },
  {
   "cell_type": "code",
   "execution_count": null,
   "id": "710339ee-7afc-45af-ac1a-090eaba4f3eb",
   "metadata": {},
   "outputs": [],
   "source": [
    "digits_pattern = re.compile(r\"\\b\\d+\\b\")"
   ]
  },
  {
   "cell_type": "code",
   "execution_count": null,
   "id": "7f1cf6bd-aaa0-468b-890a-06c8a931678c",
   "metadata": {},
   "outputs": [],
   "source": [
    "news_content_no_digits = news_content_no_single_letter_character.str.replace(\n",
    "    digits_pattern, repl=\"\", regex=True\n",
    ")"
   ]
  },
  {
   "cell_type": "code",
   "execution_count": null,
   "id": "fe1f1c1b-0a28-456b-ae9d-60d4c0d920ef",
   "metadata": {},
   "outputs": [],
   "source": [
    "url_pattern = re.compile(r\"(http(s?):\\/\\/)([a-zA-Z]+)(\\.[a-zA-Z]+)+(\\/[a-zA-Z0-9_\\+-]+)*\")"
   ]
  },
  {
   "cell_type": "code",
   "execution_count": null,
   "id": "300784ed-8e09-4aae-8bd2-540174b97f0e",
   "metadata": {},
   "outputs": [],
   "source": [
    "test_string = \"https://warwick.ac.uk/fac/sci/dcs/teaching/material/cs918/\""
   ]
  },
  {
   "cell_type": "code",
   "execution_count": null,
   "id": "7128727f-189c-49cf-8d60-afc47e0f20e5",
   "metadata": {},
   "outputs": [],
   "source": [
    "if re.match(url_pattern, test_string):\n",
    "    m = re.match(url_pattern, test_string)"
   ]
  },
  {
   "cell_type": "code",
   "execution_count": null,
   "id": "c836bb36-9aad-4c83-80ce-700a96a37ab6",
   "metadata": {},
   "outputs": [],
   "source": [
    "news_content.str.contains(\".gov\").sum()"
   ]
  },
  {
   "cell_type": "code",
   "execution_count": null,
   "id": "a8ef5145-d78a-40b0-8588-a7f31a83b4e6",
   "metadata": {},
   "outputs": [],
   "source": [
    "news_content[news_content.str.contains(\".com\")]"
   ]
  },
  {
   "cell_type": "code",
   "execution_count": null,
   "id": "09735819-1824-4594-9546-98143bd7affa",
   "metadata": {},
   "outputs": [],
   "source": [
    "len(news_content[19227])"
   ]
  },
  {
   "cell_type": "code",
   "execution_count": null,
   "id": "886e7dca-3272-4e84-84a1-45ddc81f5814",
   "metadata": {
    "execution": {
     "iopub.execute_input": "2024-02-06T15:25:04.876040Z",
     "iopub.status.busy": "2024-02-06T15:25:04.875033Z",
     "iopub.status.idle": "2024-02-06T15:25:04.955099Z",
     "shell.execute_reply": "2024-02-06T15:25:04.954168Z",
     "shell.execute_reply.started": "2024-02-06T15:25:04.876040Z"
    }
   },
   "outputs": [],
   "source": [
    "print(news_content_lower[news_content_lower.str.contains(\"www.\")].values[0])"
   ]
  },
  {
   "cell_type": "code",
   "execution_count": null,
   "id": "2644f4ac-3810-459b-ba01-faf8c8952c44",
   "metadata": {},
   "outputs": [],
   "source": []
  }
 ],
 "metadata": {
  "kernelspec": {
   "display_name": "nlp",
   "language": "python",
   "name": "nlp"
  },
  "language_info": {
   "codemirror_mode": {
    "name": "ipython",
    "version": 3
   },
   "file_extension": ".py",
   "mimetype": "text/x-python",
   "name": "python",
   "nbconvert_exporter": "python",
   "pygments_lexer": "ipython3",
   "version": "3.10.0"
  }
 },
 "nbformat": 4,
 "nbformat_minor": 5
}
