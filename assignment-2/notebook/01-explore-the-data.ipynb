{
 "cells": [
  {
   "cell_type": "markdown",
   "id": "1c6f3440-d7f3-43db-bebe-9ad2a6463292",
   "metadata": {},
   "source": [
    "# Load packages"
   ]
  },
  {
   "cell_type": "code",
   "execution_count": null,
   "id": "e86c351f-e3d2-46d3-90f4-20f4cf70ca37",
   "metadata": {
    "execution": {
     "iopub.execute_input": "2024-03-21T15:50:57.906924Z",
     "iopub.status.busy": "2024-03-21T15:50:57.906924Z",
     "iopub.status.idle": "2024-03-21T15:51:16.496503Z",
     "shell.execute_reply": "2024-03-21T15:51:16.496503Z",
     "shell.execute_reply.started": "2024-03-21T15:50:57.906924Z"
    }
   },
   "outputs": [],
   "source": [
    "import re\n",
    "import string\n",
    "from collections import Counter\n",
    "\n",
    "import numpy as np\n",
    "import pandas as pd\n",
    "import plotly.express as px\n",
    "import seaborn as sns\n",
    "import spacy\n",
    "import torch\n",
    "import torch.nn as nn\n",
    "from nltk.corpus import stopwords\n",
    "from nltk.tokenize import word_tokenize\n",
    "from torchtext.data.utils import get_tokenizer\n",
    "from torchtext.vocab import Vocab"
   ]
  },
  {
   "cell_type": "code",
   "execution_count": null,
   "id": "eb7d5318-8dff-42c0-8ab7-7275b70e5bb0",
   "metadata": {
    "execution": {
     "iopub.execute_input": "2024-03-21T15:40:34.397161Z",
     "iopub.status.busy": "2024-03-21T15:40:34.397161Z",
     "iopub.status.idle": "2024-03-21T15:40:34.404343Z",
     "shell.execute_reply": "2024-03-21T15:40:34.403279Z",
     "shell.execute_reply.started": "2024-03-21T15:40:34.397161Z"
    }
   },
   "outputs": [],
   "source": [
    "pd.set_option(\"display.max_colwidth\", None)"
   ]
  },
  {
   "cell_type": "code",
   "execution_count": null,
   "id": "b4c9bb7e-8f7d-4785-8022-1e8bfa32449f",
   "metadata": {
    "execution": {
     "iopub.execute_input": "2024-03-21T15:40:34.848050Z",
     "iopub.status.busy": "2024-03-21T15:40:34.847032Z",
     "iopub.status.idle": "2024-03-21T15:40:34.858072Z",
     "shell.execute_reply": "2024-03-21T15:40:34.858072Z",
     "shell.execute_reply.started": "2024-03-21T15:40:34.848050Z"
    }
   },
   "outputs": [],
   "source": [
    "# def init_pipeline(input_df: pd.DataFrame) -> pd.DataFrame:\n",
    "#     return input_df.copy()\n",
    "\n",
    "# def remove_user_mention(input_df: pd.DataFrame) -> pd.DataFrame:\n",
    "#     user_handle_pattern = re.compile(\"(@[a-zA-Z0-9_]+)\")\n",
    "\n",
    "#     input_df[\"tweet_text\"] = input_df[\"tweet_text\"].str.replace(\n",
    "#         pat=user_handle_pattern, repl=\"\", regex=True\n",
    "#     )\n",
    "\n",
    "#     return input_df\n",
    "\n",
    "# def remove_hashtag(input_df: pd.DataFrame) -> pd.DataFrame:\n",
    "#     hashtag_pattern = re.compile(\"#(\\w+)\")\n",
    "\n",
    "#     input_df[\"tweet_text\"] = input_df[\"tweet_text\"].str.replace(\n",
    "#         pat=hashtag_pattern, repl=\"\", regex=True\n",
    "#     )\n",
    "\n",
    "#     return input_df"
   ]
  },
  {
   "cell_type": "code",
   "execution_count": null,
   "id": "d7984269-de76-4bad-a4b1-9c33a4b9b039",
   "metadata": {
    "execution": {
     "iopub.execute_input": "2024-03-21T15:40:38.164967Z",
     "iopub.status.busy": "2024-03-21T15:40:38.164967Z",
     "iopub.status.idle": "2024-03-21T15:40:38.186991Z",
     "shell.execute_reply": "2024-03-21T15:40:38.186991Z",
     "shell.execute_reply.started": "2024-03-21T15:40:38.164967Z"
    }
   },
   "outputs": [],
   "source": [
    "def read_data(file_name: str):\n",
    "    data_list = []\n",
    "\n",
    "    with open(f\"data/semeval-tweets/{file_name}.txt\", encoding=\"utf8\") as f:\n",
    "        for line in f:\n",
    "            fields = line.strip().split(\"\\t\")\n",
    "            data_list.append(fields)\n",
    "\n",
    "    df = pd.DataFrame(\n",
    "        data=data_list,\n",
    "        columns=[\n",
    "            \"tweet_id\",\n",
    "            \"tweet_sentiment\",\n",
    "            \"tweet_text\",\n",
    "        ],\n",
    "    )\n",
    "\n",
    "    return df"
   ]
  },
  {
   "cell_type": "markdown",
   "id": "fc35c19a-c43c-4d06-8e9b-19131a35ea5d",
   "metadata": {},
   "source": [
    "# Read data"
   ]
  },
  {
   "cell_type": "code",
   "execution_count": null,
   "id": "b32d3c96-ced7-4d3b-b7ac-9a6d91d8ffd9",
   "metadata": {
    "execution": {
     "iopub.execute_input": "2024-03-21T15:40:39.317201Z",
     "iopub.status.busy": "2024-03-21T15:40:39.317201Z",
     "iopub.status.idle": "2024-03-21T15:40:39.471681Z",
     "shell.execute_reply": "2024-03-21T15:40:39.471681Z",
     "shell.execute_reply.started": "2024-03-21T15:40:39.317201Z"
    }
   },
   "outputs": [],
   "source": [
    "training_data = read_data(\"twitter-training-data\")"
   ]
  },
  {
   "cell_type": "code",
   "execution_count": null,
   "id": "2c4bc140-a6f1-4dad-883f-793901ff4409",
   "metadata": {
    "execution": {
     "iopub.execute_input": "2024-03-21T15:40:39.693217Z",
     "iopub.status.busy": "2024-03-21T15:40:39.693217Z",
     "iopub.status.idle": "2024-03-21T15:40:39.737213Z",
     "shell.execute_reply": "2024-03-21T15:40:39.737213Z",
     "shell.execute_reply.started": "2024-03-21T15:40:39.693217Z"
    }
   },
   "outputs": [],
   "source": [
    "development_data = read_data(\"twitter-dev-data\")"
   ]
  },
  {
   "cell_type": "code",
   "execution_count": null,
   "id": "dd62ce72-a529-42d4-9baa-bf8cdb6c4bae",
   "metadata": {
    "execution": {
     "iopub.execute_input": "2024-03-21T15:40:40.036326Z",
     "iopub.status.busy": "2024-03-21T15:40:40.036326Z",
     "iopub.status.idle": "2024-03-21T15:40:40.069419Z",
     "shell.execute_reply": "2024-03-21T15:40:40.069419Z",
     "shell.execute_reply.started": "2024-03-21T15:40:40.036326Z"
    }
   },
   "outputs": [],
   "source": [
    "testing_1_data = read_data(\"twitter-test1\")"
   ]
  },
  {
   "cell_type": "code",
   "execution_count": null,
   "id": "47160ef9-6201-48f1-a1b5-c9935c50242e",
   "metadata": {
    "execution": {
     "iopub.execute_input": "2024-03-21T15:40:40.445315Z",
     "iopub.status.busy": "2024-03-21T15:40:40.445315Z",
     "iopub.status.idle": "2024-03-21T15:40:40.478390Z",
     "shell.execute_reply": "2024-03-21T15:40:40.478390Z",
     "shell.execute_reply.started": "2024-03-21T15:40:40.445315Z"
    }
   },
   "outputs": [],
   "source": [
    "testing_2_data = read_data(\"twitter-test2\")"
   ]
  },
  {
   "cell_type": "code",
   "execution_count": null,
   "id": "3dba6aeb-2e54-41a3-a505-2533b63024a2",
   "metadata": {
    "execution": {
     "iopub.execute_input": "2024-03-21T15:40:40.701316Z",
     "iopub.status.busy": "2024-03-21T15:40:40.701316Z",
     "iopub.status.idle": "2024-03-21T15:40:40.745334Z",
     "shell.execute_reply": "2024-03-21T15:40:40.745334Z",
     "shell.execute_reply.started": "2024-03-21T15:40:40.701316Z"
    }
   },
   "outputs": [],
   "source": [
    "testing_3_data = read_data(\"twitter-test3\")"
   ]
  },
  {
   "cell_type": "code",
   "execution_count": null,
   "id": "6f3c45cf-7b95-4dd9-b8fc-7edc25d97987",
   "metadata": {
    "execution": {
     "iopub.execute_input": "2024-03-21T15:40:41.045246Z",
     "iopub.status.busy": "2024-03-21T15:40:41.045246Z",
     "iopub.status.idle": "2024-03-21T15:40:41.078373Z",
     "shell.execute_reply": "2024-03-21T15:40:41.078373Z",
     "shell.execute_reply.started": "2024-03-21T15:40:41.045246Z"
    }
   },
   "outputs": [],
   "source": [
    "training_data.head()"
   ]
  },
  {
   "cell_type": "code",
   "execution_count": null,
   "id": "658fe9dc-4b08-4597-8fa8-3f90c47c7f50",
   "metadata": {
    "execution": {
     "iopub.execute_input": "2024-03-21T15:40:41.895161Z",
     "iopub.status.busy": "2024-03-21T15:40:41.895161Z",
     "iopub.status.idle": "2024-03-21T15:40:41.928022Z",
     "shell.execute_reply": "2024-03-21T15:40:41.928022Z",
     "shell.execute_reply.started": "2024-03-21T15:40:41.895161Z"
    }
   },
   "outputs": [],
   "source": [
    "print(f\"Training data: {training_data['tweet_sentiment'].value_counts().to_dict()}\")\n",
    "print(\n",
    "    f\"Development data: {development_data['tweet_sentiment'].value_counts().to_dict()}\"\n",
    ")\n",
    "print(f\"Testing 1 data: {testing_1_data['tweet_sentiment'].value_counts().to_dict()}\")\n",
    "print(f\"Testing 2 data: {testing_2_data['tweet_sentiment'].value_counts().to_dict()}\")\n",
    "print(f\"Testing 3 data: {testing_3_data['tweet_sentiment'].value_counts().to_dict()}\")"
   ]
  },
  {
   "cell_type": "code",
   "execution_count": null,
   "id": "7d2cef78-e2df-4e77-987a-06450e6da4ab",
   "metadata": {
    "execution": {
     "iopub.execute_input": "2024-03-21T15:40:44.114665Z",
     "iopub.status.busy": "2024-03-21T15:40:44.114665Z",
     "iopub.status.idle": "2024-03-21T15:40:44.140540Z",
     "shell.execute_reply": "2024-03-21T15:40:44.140540Z",
     "shell.execute_reply.started": "2024-03-21T15:40:44.114665Z"
    }
   },
   "outputs": [],
   "source": [
    "print(\n",
    "    f\"Training data: {training_data['tweet_sentiment'].value_counts(normalize=True).to_dict()}\"\n",
    ")\n",
    "print(\n",
    "    f\"Development data: {development_data['tweet_sentiment'].value_counts(normalize=True).to_dict()}\"\n",
    ")\n",
    "print(\n",
    "    f\"Testing 1 data: {testing_1_data['tweet_sentiment'].value_counts(normalize=True).to_dict()}\"\n",
    ")\n",
    "print(\n",
    "    f\"Testing 2 data: {testing_2_data['tweet_sentiment'].value_counts(normalize=True).to_dict()}\"\n",
    ")\n",
    "print(\n",
    "    f\"Testing 3 data: {testing_3_data['tweet_sentiment'].value_counts(normalize=True).to_dict()}\"\n",
    ")"
   ]
  },
  {
   "cell_type": "markdown",
   "id": "99d1dec7-fac7-4d06-bcce-422c932d92a8",
   "metadata": {},
   "source": [
    "# Exploratory data analysis"
   ]
  },
  {
   "cell_type": "code",
   "execution_count": null,
   "id": "0b587856-57e5-4d0e-be11-791d83fb7f05",
   "metadata": {
    "execution": {
     "iopub.execute_input": "2024-03-21T15:40:47.159530Z",
     "iopub.status.busy": "2024-03-21T15:40:47.159530Z",
     "iopub.status.idle": "2024-03-21T15:40:47.198750Z",
     "shell.execute_reply": "2024-03-21T15:40:47.198750Z",
     "shell.execute_reply.started": "2024-03-21T15:40:47.159530Z"
    }
   },
   "outputs": [],
   "source": [
    "training_data[\"tweet_length\"] = training_data[\"tweet_text\"].str.len()\n",
    "development_data[\"tweet_text\"] = development_data[\"tweet_text\"].str.len()"
   ]
  },
  {
   "cell_type": "code",
   "execution_count": null,
   "id": "0aed66d0-65c5-405f-ae92-185dfc2c36c5",
   "metadata": {
    "execution": {
     "iopub.execute_input": "2024-03-21T15:40:47.799952Z",
     "iopub.status.busy": "2024-03-21T15:40:47.799952Z",
     "iopub.status.idle": "2024-03-21T15:40:49.548917Z",
     "shell.execute_reply": "2024-03-21T15:40:49.548917Z",
     "shell.execute_reply.started": "2024-03-21T15:40:47.799952Z"
    }
   },
   "outputs": [],
   "source": [
    "fig = px.histogram(\n",
    "    data_frame=training_data,\n",
    "    x=\"tweet_length\",\n",
    "    color=\"tweet_sentiment\",\n",
    "    nbins=20,\n",
    "    barmode=\"group\",\n",
    ")\n",
    "\n",
    "fig.show()"
   ]
  },
  {
   "cell_type": "code",
   "execution_count": null,
   "id": "66eaabd8-cb2e-4a24-82aa-69cd54c4be89",
   "metadata": {
    "execution": {
     "iopub.execute_input": "2024-03-21T15:49:57.307799Z",
     "iopub.status.busy": "2024-03-21T15:49:57.307799Z",
     "iopub.status.idle": "2024-03-21T15:49:57.458382Z",
     "shell.execute_reply": "2024-03-21T15:49:57.458382Z",
     "shell.execute_reply.started": "2024-03-21T15:49:57.307799Z"
    }
   },
   "outputs": [],
   "source": [
    "fig = px.box(data_frame=training_data, x=\"tweet_length\", color=\"tweet_sentiment\")\n",
    "\n",
    "fig.show()"
   ]
  },
  {
   "cell_type": "markdown",
   "id": "b8616077-98f9-4d22-b6d9-446a2459b961",
   "metadata": {},
   "source": [
    "# Load GloVe embeddings"
   ]
  },
  {
   "cell_type": "code",
   "execution_count": null,
   "id": "bed1acb3",
   "metadata": {},
   "outputs": [],
   "source": [
    "word_embedding_dict = {}\n",
    "\n",
    "with open(\"data/glove.6B/glove.6B.100d.txt\", encoding='utf8') as f:\n",
    "    for line in f:\n",
    "        tokens = line.split()\n",
    "        word = tokens[0]\n",
    "        word_embedding_vector = np.array(tokens[1:], dtype=np.float64)\n",
    "        word_embedding_dict[word] = word_embedding_vector"
   ]
  },
  {
   "cell_type": "code",
   "execution_count": null,
   "id": "832130a2",
   "metadata": {},
   "outputs": [],
   "source": [
    "len(word_embedding_dict)"
   ]
  },
  {
   "cell_type": "code",
   "execution_count": null,
   "id": "9f1ec331",
   "metadata": {},
   "outputs": [],
   "source": [
    "tokenizer = get_tokenizer(tokenizer='basic_english')"
   ]
  },
  {
   "cell_type": "code",
   "execution_count": null,
   "id": "7275f355",
   "metadata": {},
   "outputs": [],
   "source": [
    "from collections import Counter"
   ]
  },
  {
   "cell_type": "code",
   "execution_count": null,
   "id": "836a63d0",
   "metadata": {},
   "outputs": [],
   "source": [
    "counter = Counter()\n",
    "\n",
    "for idx, row in training_data.iterrows():\n",
    "    \n",
    "    tweet_tokens = tokenizer(row['tweet_text'])\n",
    "    counter.update(tweet_tokens)"
   ]
  },
  {
   "cell_type": "code",
   "execution_count": null,
   "id": "1cce8ed4",
   "metadata": {},
   "outputs": [],
   "source": [
    "# from torchtext.vocab.vectors import GloVe\n",
    "from torchtext.vocab import GloVe, vocab"
   ]
  },
  {
   "cell_type": "code",
   "execution_count": null,
   "id": "bbc2f0e2",
   "metadata": {},
   "outputs": [],
   "source": [
    "glove = GloVe(name='6B', dim=100)"
   ]
  },
  {
   "cell_type": "code",
   "execution_count": null,
   "id": "9bef3913",
   "metadata": {},
   "outputs": [],
   "source": [
    "vv = vocab(glove.stoi)"
   ]
  },
  {
   "cell_type": "code",
   "execution_count": null,
   "id": "2a7c5183",
   "metadata": {},
   "outputs": [],
   "source": [
    "vv['syria']"
   ]
  },
  {
   "cell_type": "code",
   "execution_count": null,
   "id": "cf161c6d",
   "metadata": {},
   "outputs": [],
   "source": [
    "from torchtext.vocab import Vectors"
   ]
  },
  {
   "cell_type": "code",
   "execution_count": null,
   "id": "f523af0a",
   "metadata": {},
   "outputs": [],
   "source": [
    "vv = Vectors('data/glove.6B/glove.6B.100d.txt')"
   ]
  },
  {
   "cell_type": "code",
   "execution_count": null,
   "id": "6a5e58b2",
   "metadata": {},
   "outputs": [],
   "source": []
  }
 ],
 "metadata": {
  "kernelspec": {
   "display_name": "Python 3 (ipykernel)",
   "language": "python",
   "name": "python3"
  },
  "language_info": {
   "codemirror_mode": {
    "name": "ipython",
    "version": 3
   },
   "file_extension": ".py",
   "mimetype": "text/x-python",
   "name": "python",
   "nbconvert_exporter": "python",
   "pygments_lexer": "ipython3",
   "version": "3.10.0"
  }
 },
 "nbformat": 4,
 "nbformat_minor": 5
}
